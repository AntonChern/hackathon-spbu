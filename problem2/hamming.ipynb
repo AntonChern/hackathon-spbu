{
  "nbformat": 4,
  "nbformat_minor": 0,
  "metadata": {
    "colab": {
      "provenance": []
    },
    "kernelspec": {
      "name": "python3",
      "display_name": "Python 3"
    },
    "language_info": {
      "name": "python"
    }
  },
  "cells": [
    {
      "cell_type": "code",
      "execution_count": null,
      "metadata": {
        "id": "AXzXvXokUdBE"
      },
      "outputs": [],
      "source": [
        "def encode(message):\n",
        "  bit1, bit2 = int(message[0]), int(message[1])\n",
        "  return str(bit1 ^ bit2) + str(bit1) * 2 + str(bit2) * 2\n",
        "\n",
        "def decode(message):\n",
        "  bit1, bit2 = int(message[2]), int(message[4])\n",
        "  cbit = bit1 ^ bit2\n",
        "  counter = 0\n",
        "  if cbit != int(message[0]):\n",
        "    counter += 1\n",
        "  if bit1 != int(message[1]):\n",
        "    counter += 2\n",
        "  if bit2 != int(message[3]):\n",
        "    counter += 4\n",
        "  index = counter - 1\n",
        "  if index != -1:\n",
        "    message = message[:index] + ('0' if message[index] == '1' else '1') + message[index + 1:]\n",
        "  return message[2] + message[4]"
      ]
    }
  ]
}